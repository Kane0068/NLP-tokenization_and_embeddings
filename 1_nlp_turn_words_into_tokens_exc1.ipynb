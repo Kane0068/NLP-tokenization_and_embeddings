{
  "nbformat": 4,
  "nbformat_minor": 0,
  "metadata": {
    "colab": {
      "provenance": [],
      "authorship_tag": "ABX9TyM/HBVvwUeKjHOB9EJsiD4W"
    },
    "kernelspec": {
      "name": "python3",
      "display_name": "Python 3"
    },
    "language_info": {
      "name": "python"
    }
  },
  "cells": [
    {
      "cell_type": "markdown",
      "source": [
        "##1-İmport tokenizer from the libraries"
      ],
      "metadata": {
        "id": "QLOvRvpMPLzW"
      }
    },
    {
      "cell_type": "code",
      "source": [
        "from tensorflow.keras.preprocessing.text import Tokenizer"
      ],
      "metadata": {
        "id": "gsuNiYhxTKS2"
      },
      "execution_count": 1,
      "outputs": []
    },
    {
      "cell_type": "markdown",
      "source": [
        "## 2- Write some sentences(Çevireceğimiz cümleleri yazalım)"
      ],
      "metadata": {
        "id": "IoxiGiFtTUUs"
      }
    },
    {
      "cell_type": "code",
      "source": [
        "sentences = [\n",
        "    'My favorite food is ice cream',\n",
        "    'do you like ice cream too?',\n",
        "    'My dog likes ice cream!',\n",
        "    \"your favorite flavor of icecream is chocolate\",\n",
        "    \"chocolate isn't good for dogs\",\n",
        "    \"your dog, your cat, and your parrot prefer broccoli\"\n",
        "]"
      ],
      "metadata": {
        "id": "fsaM6Zi8TUXE"
      },
      "execution_count": 2,
      "outputs": []
    },
    {
      "cell_type": "markdown",
      "source": [
        "##3-Tokenize the words\n",
        "  > Her Kelimeye bir sayı atamasına başlayalım"
      ],
      "metadata": {
        "id": "1bXPdtQKTUbU"
      }
    },
    {
      "cell_type": "code",
      "source": [
        "#num_words = maximum kelime sayısını belirtir(isteğe bağlı)\n",
        "# oov_token = bilmediği bir kelime geldiğinde onu temsil etmek için kullanılır.Örneğin OOV yerine 1 sayısını atadık her bilmediği kelimeye rastladığında 1 basar\n",
        "tokenizer = Tokenizer(num_words=100,oov_token=\"<OOV>\")\n",
        "\n",
        "# her kelime için benzersiz sayı bastırmak için fit_on_texts kullanıyoruz\n",
        "tokenizer.fit_on_texts(sentences)\n",
        "\n"
      ],
      "metadata": {
        "id": "8b5FQ3QLTUdv"
      },
      "execution_count": 3,
      "outputs": []
    },
    {
      "cell_type": "markdown",
      "source": [
        "## 4- View the word index\n",
        "  > Kelimelere verilen sayıları görelim"
      ],
      "metadata": {
        "id": "719qX7uRUuRz"
      }
    },
    {
      "cell_type": "code",
      "source": [
        "word_index = tokenizer.word_index\n",
        "print(word_index)\n",
        "\n",
        "# Dikkat edilmesi gerekenler : \n",
        "  # Kelimeler anahtar sayılar değerleridir(sözlük...)\n",
        "  # OOV değerine 1 verdi sisteminde olmadığı kelimelere 1 değeri basar"
      ],
      "metadata": {
        "colab": {
          "base_uri": "https://localhost:8080/"
        },
        "id": "tR8mlrnNU9Ff",
        "outputId": "55219aa0-a69e-40b3-f07e-d8e54d11063e"
      },
      "execution_count": 5,
      "outputs": [
        {
          "output_type": "stream",
          "name": "stdout",
          "text": [
            "{'<OOV>': 1, 'your': 2, 'ice': 3, 'cream': 4, 'my': 5, 'favorite': 6, 'is': 7, 'dog': 8, 'chocolate': 9, 'food': 10, 'do': 11, 'you': 12, 'like': 13, 'too': 14, 'likes': 15, 'flavor': 16, 'of': 17, 'icecream': 18, \"isn't\": 19, 'good': 20, 'for': 21, 'dogs': 22, 'cat': 23, 'and': 24, 'parrot': 25, 'prefer': 26, 'broccoli': 27}\n"
          ]
        }
      ]
    },
    {
      "cell_type": "code",
      "source": [
        "print(word_index[\"dog\"])\n",
        "print(word_index[\"like\"])"
      ],
      "metadata": {
        "colab": {
          "base_uri": "https://localhost:8080/"
        },
        "id": "_LhzsTyxU9Hv",
        "outputId": "4b4dc4a4-8c85-4110-f024-395767c327da"
      },
      "execution_count": 7,
      "outputs": [
        {
          "output_type": "stream",
          "name": "stdout",
          "text": [
            "8\n",
            "13\n"
          ]
        }
      ]
    },
    {
      "cell_type": "markdown",
      "source": [
        "##5 -Create sequences for the sentences\n",
        "  *  Şimdi de her cümleyi temsil eden bir dizi oluşturacağız\n",
        "  * Kelimelere dizi attık fakat kelimeler hangi sırayla yerleşeceğini bilmiyor o yüzden cümlelere de bir sayı değeri vermemiz gerekiyor.Bu sayede hangi kelimeden sonra hangi kelime geleceğini öğretebiliriz"
      ],
      "metadata": {
        "id": "TTR3Z-9rU9KC"
      }
    },
    {
      "cell_type": "code",
      "source": [
        "sequences = tokenizer.texts_to_sequences(sentences)\n",
        "print(sequences)"
      ],
      "metadata": {
        "colab": {
          "base_uri": "https://localhost:8080/"
        },
        "id": "gPKawbyqU9MP",
        "outputId": "74981e70-ba41-4ed0-f017-e70d8117a50e"
      },
      "execution_count": 8,
      "outputs": [
        {
          "output_type": "stream",
          "name": "stdout",
          "text": [
            "[[5, 6, 10, 7, 3, 4], [11, 12, 13, 3, 4, 14], [5, 8, 15, 3, 4], [2, 6, 16, 17, 18, 7, 9], [9, 19, 20, 21, 22], [2, 8, 2, 23, 24, 2, 25, 26, 27]]\n"
          ]
        }
      ]
    },
    {
      "cell_type": "markdown",
      "source": [
        "## 6 - Sequence sentences that contain words that are not in the word index\n",
        "  * Şimdi bir cümle verelim ve onları nasıl temsil ettiğini görelim"
      ],
      "metadata": {
        "id": "VHwZJ3waXD8-"
      }
    },
    {
      "cell_type": "code",
      "source": [
        "sentences2 = [\"I like hot chocolate\", \"My dogs and my hedgehog like kibble but my squirrel prefers grapes and my chickens like ice cream, preferably vanilla\"]\n",
        "\n",
        "sequences2 = tokenizer.texts_to_sequences(sentences2)\n",
        "print(sequences2)"
      ],
      "metadata": {
        "colab": {
          "base_uri": "https://localhost:8080/"
        },
        "id": "hE0-t9ZUXUGk",
        "outputId": "ce86e3e6-0482-4539-bd25-e9006f334448"
      },
      "execution_count": 9,
      "outputs": [
        {
          "output_type": "stream",
          "name": "stdout",
          "text": [
            "[[1, 13, 1, 9], [5, 22, 24, 5, 1, 13, 1, 1, 5, 1, 1, 1, 24, 5, 1, 13, 3, 4, 1, 1]]\n"
          ]
        }
      ]
    },
    {
      "cell_type": "markdown",
      "source": [
        "**GÖRÜLDÜĞÜ ÜZERE TANIDIKLARINA DAHA ÖNCE BELİRLEDİĞİMİZ KELİME NUMARALARI İLE BELİRTMİŞKEN KELİME DAĞARCIĞIMIZDA OLMAYAN KELİMELERİ 1 SAYISIYLA TEMSİL ETMİŞ**"
      ],
      "metadata": {
        "id": "LAofCOYcXm9M"
      }
    }
  ]
}