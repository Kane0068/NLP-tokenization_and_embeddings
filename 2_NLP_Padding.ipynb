{
  "nbformat": 4,
  "nbformat_minor": 0,
  "metadata": {
    "colab": {
      "provenance": [],
      "authorship_tag": "ABX9TyM484q0RtRcOMOi5JdNTKTn"
    },
    "kernelspec": {
      "name": "python3",
      "display_name": "Python 3"
    },
    "language_info": {
      "name": "python"
    }
  },
  "cells": [
    {
      "cell_type": "markdown",
      "source": [
        "#Preparing text to use with TensorFlow models"
      ],
      "metadata": {
        "id": "jdVfxcDzfNZy"
      }
    },
    {
      "cell_type": "markdown",
      "source": [
        "1. Kelimelere Dizi verelim\n",
        "2. Cümlelere dizi verelim\n",
        "3. Tensorflow modelleri aynı uzunlukta dizi kümesi kullandığı için aynı uzunluğa getirelim"
      ],
      "metadata": {
        "id": "9EC1UWPEfl7d"
      }
    },
    {
      "cell_type": "markdown",
      "source": [
        "## 1- İmporting Lİbraries"
      ],
      "metadata": {
        "id": "aOcF54uMf25Q"
      }
    },
    {
      "cell_type": "code",
      "source": [
        "from tensorflow.keras.preprocessing.text import Tokenizer\n",
        "from tensorflow.keras.preprocessing.sequence import pad_sequences"
      ],
      "metadata": {
        "id": "vUh1GpHMf274"
      },
      "execution_count": 3,
      "outputs": []
    },
    {
      "cell_type": "markdown",
      "source": [
        "##2-Write some sentences"
      ],
      "metadata": {
        "id": "2LDewH9Qf2-L"
      }
    },
    {
      "cell_type": "code",
      "source": [
        "sentences = [\n",
        "    'My favorite food is ice cream',\n",
        "    'do you like ice cream too?',\n",
        "    'My dog likes ice cream!',\n",
        "    \"your favorite flavor of icecream is chocolate\",\n",
        "    \"chocolate isn't good for dogs\",\n",
        "    \"your dog, your cat, and your parrot prefer broccoli\"\n",
        "]\n",
        "print(sentences)\n"
      ],
      "metadata": {
        "colab": {
          "base_uri": "https://localhost:8080/"
        },
        "id": "UYmVbVo8gXK9",
        "outputId": "0b71ee2a-53e3-4e3e-d27c-e040cbc1cb9c"
      },
      "execution_count": 1,
      "outputs": [
        {
          "output_type": "stream",
          "name": "stdout",
          "text": [
            "['My favorite food is ice cream', 'do you like ice cream too?', 'My dog likes ice cream!', 'your favorite flavor of icecream is chocolate', \"chocolate isn't good for dogs\", 'your dog, your cat, and your parrot prefer broccoli']\n"
          ]
        }
      ]
    },
    {
      "cell_type": "markdown",
      "source": [
        "##3-Create the Tokenizer and define an out of vocabulary token\n",
        "  * Max kelime sayısını belirleyecez\n",
        "  * Tanımadığı kelime için bir OOV(Out Of Vocabulary) belirteci tanımlayacaz(Bu belirteç tanımadığı bir kelime ile karşılaşırsa ona 1 sayısını basacak)"
      ],
      "metadata": {
        "id": "CNdtoAeqgXNs"
      }
    },
    {
      "cell_type": "code",
      "source": [
        "tokenizer = Tokenizer(num_words=100,oov_token=\"<OOV>\")"
      ],
      "metadata": {
        "id": "RKOs7Ys7gXQA"
      },
      "execution_count": 4,
      "outputs": []
    },
    {
      "cell_type": "markdown",
      "source": [
        "##4-Tokenize the words"
      ],
      "metadata": {
        "id": "KgrIMajUgXr_"
      }
    },
    {
      "cell_type": "code",
      "source": [
        "tokenizer.fit_on_texts(sentences)\n",
        "word_index = tokenizer.word_index\n",
        "print(word_index)"
      ],
      "metadata": {
        "colab": {
          "base_uri": "https://localhost:8080/"
        },
        "id": "SwLHAiSDgXue",
        "outputId": "0dca6e45-07c3-4e09-861b-aa4a9a7034e6"
      },
      "execution_count": 5,
      "outputs": [
        {
          "output_type": "stream",
          "name": "stdout",
          "text": [
            "{'<OOV>': 1, 'your': 2, 'ice': 3, 'cream': 4, 'my': 5, 'favorite': 6, 'is': 7, 'dog': 8, 'chocolate': 9, 'food': 10, 'do': 11, 'you': 12, 'like': 13, 'too': 14, 'likes': 15, 'flavor': 16, 'of': 17, 'icecream': 18, \"isn't\": 19, 'good': 20, 'for': 21, 'dogs': 22, 'cat': 23, 'and': 24, 'parrot': 25, 'prefer': 26, 'broccoli': 27}\n"
          ]
        }
      ]
    },
    {
      "cell_type": "markdown",
      "source": [
        "## 5- Turn sentences into sequences\n",
        "  * Her CÜmle için bir dizi oluşturuyoruz\n",
        "  * Bunu yapmamızın sebebi kelimelerin hangi sırayla geldiğini sisteme tanıtmak\n",
        "  * Sunuçta kelimeleri rastgele dağıtarak bir cümle oluşturamayız"
      ],
      "metadata": {
        "id": "zuG3T0YsgXyu"
      }
    },
    {
      "cell_type": "code",
      "source": [
        "sequences = tokenizer.texts_to_sequences(sentences)\n",
        "print(sequences)"
      ],
      "metadata": {
        "colab": {
          "base_uri": "https://localhost:8080/"
        },
        "id": "9aNA1XRTgX1Q",
        "outputId": "41a540fc-68ed-4b73-88f8-27a1573acbf6"
      },
      "execution_count": 6,
      "outputs": [
        {
          "output_type": "stream",
          "name": "stdout",
          "text": [
            "[[5, 6, 10, 7, 3, 4], [11, 12, 13, 3, 4, 14], [5, 8, 15, 3, 4], [2, 6, 16, 17, 18, 7, 9], [9, 19, 20, 21, 22], [2, 8, 2, 23, 24, 2, 25, 26, 27]]\n"
          ]
        }
      ]
    },
    {
      "cell_type": "markdown",
      "source": [
        "## 6- Make the sequences all the same length\n",
        " * Amaç : Her Cümleyi eşit uzunlukta bir sayı dizisi hakine getirmek\n",
        " * Yöntem : Dolgu yöntemi(padding)\n",
        " * Çalışma Prensibi : Varsayılan olarak en uzun cümleyi baz alarak diğer cümlelerdeki boş olan kelimelerin yerine 0 yazarak doldurur\n",
        " * Not1 : Cümle uzunluğunu biz belirlersek uzun olan cümleyi bizim belirlediğimiz sınıra göre keser\n",
        " * Not2 : Kesme işlemi varsayılan olarak baştan başlar tabi bunu sondan kesmeye başla diyerek değiştirebiliriz"
      ],
      "metadata": {
        "id": "s_Ft11FjiHuu"
      }
    },
    {
      "cell_type": "code",
      "source": [
        "padded = pad_sequences(sequences)\n",
        "print(\"\\nWord Index = \" , word_index)\n",
        "print(\"\\nSequences = \" , sequences)\n",
        "print(\"\\nPadded Sequences:\")\n",
        "print(padded)"
      ],
      "metadata": {
        "colab": {
          "base_uri": "https://localhost:8080/"
        },
        "id": "FUtW6b4yiHxQ",
        "outputId": "602fabe3-edd8-4fc2-b4a8-6682b29b5388"
      },
      "execution_count": 8,
      "outputs": [
        {
          "output_type": "stream",
          "name": "stdout",
          "text": [
            "\n",
            "Word Index =  {'<OOV>': 1, 'your': 2, 'ice': 3, 'cream': 4, 'my': 5, 'favorite': 6, 'is': 7, 'dog': 8, 'chocolate': 9, 'food': 10, 'do': 11, 'you': 12, 'like': 13, 'too': 14, 'likes': 15, 'flavor': 16, 'of': 17, 'icecream': 18, \"isn't\": 19, 'good': 20, 'for': 21, 'dogs': 22, 'cat': 23, 'and': 24, 'parrot': 25, 'prefer': 26, 'broccoli': 27}\n",
            "\n",
            "Sequences =  [[5, 6, 10, 7, 3, 4], [11, 12, 13, 3, 4, 14], [5, 8, 15, 3, 4], [2, 6, 16, 17, 18, 7, 9], [9, 19, 20, 21, 22], [2, 8, 2, 23, 24, 2, 25, 26, 27]]\n",
            "\n",
            "Padded Sequences:\n",
            "[[ 0  0  0  5  6 10  7  3  4]\n",
            " [ 0  0  0 11 12 13  3  4 14]\n",
            " [ 0  0  0  0  5  8 15  3  4]\n",
            " [ 0  0  2  6 16 17 18  7  9]\n",
            " [ 0  0  0  0  9 19 20 21 22]\n",
            " [ 2  8  2 23 24  2 25 26 27]]\n"
          ]
        }
      ]
    },
    {
      "cell_type": "markdown",
      "source": [
        "**Görüldüğü üzere en uzun cümleyi baz alarak boş olan yerleri 0 ile doldurdu**"
      ],
      "metadata": {
        "id": "lqzZqXwPiHzi"
      }
    },
    {
      "cell_type": "code",
      "source": [
        "# cümle uzunluğunu 15 olarak belirleyelim\n",
        "padded15 = pad_sequences(sequences,maxlen = 15)\n",
        "print(padded15)"
      ],
      "metadata": {
        "colab": {
          "base_uri": "https://localhost:8080/"
        },
        "id": "a8w1doiyiH18",
        "outputId": "efca4c07-2eaf-4885-8820-69466c26f641"
      },
      "execution_count": 10,
      "outputs": [
        {
          "output_type": "stream",
          "name": "stdout",
          "text": [
            "[[ 0  0  0  0  0  0  0  0  0  5  6 10  7  3  4]\n",
            " [ 0  0  0  0  0  0  0  0  0 11 12 13  3  4 14]\n",
            " [ 0  0  0  0  0  0  0  0  0  0  5  8 15  3  4]\n",
            " [ 0  0  0  0  0  0  0  0  2  6 16 17 18  7  9]\n",
            " [ 0  0  0  0  0  0  0  0  0  0  9 19 20 21 22]\n",
            " [ 0  0  0  0  0  0  2  8  2 23 24  2 25 26 27]]\n"
          ]
        }
      ]
    },
    {
      "cell_type": "code",
      "source": [
        "# İstersek 0 ları dizinin sonlarına yerleştirebiliriz\n",
        "padded = pad_sequences(sequences, maxlen=15, padding=\"post\")\n",
        "print(padded)"
      ],
      "metadata": {
        "colab": {
          "base_uri": "https://localhost:8080/"
        },
        "id": "B9wvGQHXkDVA",
        "outputId": "f4481de3-37f9-44d1-ecff-85be24c7052d"
      },
      "execution_count": 12,
      "outputs": [
        {
          "output_type": "stream",
          "name": "stdout",
          "text": [
            "[[ 5  6 10  7  3  4  0  0  0  0  0  0  0  0  0]\n",
            " [11 12 13  3  4 14  0  0  0  0  0  0  0  0  0]\n",
            " [ 5  8 15  3  4  0  0  0  0  0  0  0  0  0  0]\n",
            " [ 2  6 16 17 18  7  9  0  0  0  0  0  0  0  0]\n",
            " [ 9 19 20 21 22  0  0  0  0  0  0  0  0  0  0]\n",
            " [ 2  8  2 23 24  2 25 26 27  0  0  0  0  0  0]]\n"
          ]
        }
      ]
    },
    {
      "cell_type": "code",
      "source": [
        "# Kısa uzunlukta dizi belirterek kesme işlemini görelim(Baştan başlayarak kesme işlemi yapar)\n",
        "padded_sh = pad_sequences(sequences , maxlen = 3)\n",
        "print(padded_sh)"
      ],
      "metadata": {
        "colab": {
          "base_uri": "https://localhost:8080/"
        },
        "id": "IbKyfCFhkoop",
        "outputId": "59547e61-8fd7-46f0-f331-6a75c56656f5"
      },
      "execution_count": 14,
      "outputs": [
        {
          "output_type": "stream",
          "name": "stdout",
          "text": [
            "[[ 7  3  4]\n",
            " [ 3  4 14]\n",
            " [15  3  4]\n",
            " [18  7  9]\n",
            " [20 21 22]\n",
            " [25 26 27]]\n"
          ]
        }
      ]
    },
    {
      "cell_type": "markdown",
      "source": [
        "## 7 -What happens if some of the sentences contain words that are not in the word index?\n",
        " * Cümlelerin içerisinde tanınmadık kelime girdiğinde yapacaklarımıza bakalım"
      ],
      "metadata": {
        "id": "graWLnOSlT1p"
      }
    },
    {
      "cell_type": "code",
      "source": [
        "# Bir cümle dizisi oluşturalım bu istediğimiz kadar uzatılabilir\n",
        "test_data = [\n",
        "    \"my best friend's favorite ice cream flavor is strawberry\",\n",
        "    \"my dog's best friend is a manatee\"\n",
        "]\n",
        "\n",
        "print(test_data)\n",
        "\n",
        "# Cümledeki kelimeleri sistem tanımazsa hangi harfi verdiğini görmek için;\n",
        "print(\"<OOV> has the number\", word_index['<OOV>'], \"in the word index.\")\n",
        "\n",
        "# test cümlelerimizi diziye çevirelim\n",
        "test_seq = tokenizer.texts_to_sequences(test_data)\n",
        "print(\"\\nTest Data Sequences : \",test_seq)\n",
        "\n",
        "# Yeni Cümle dizilerimizin dolgusunu yapalım \n",
        "padded_test = pad_sequences(test_seq,maxlen = 10)\n",
        "print(\"\\nPadded Test Sequences : \" )\n",
        "print(padded_test)"
      ],
      "metadata": {
        "colab": {
          "base_uri": "https://localhost:8080/"
        },
        "id": "2Y0SdScKlT4f",
        "outputId": "76bd784a-b409-40de-b958-b5e8da3b11b1"
      },
      "execution_count": 16,
      "outputs": [
        {
          "output_type": "stream",
          "name": "stdout",
          "text": [
            "[\"my best friend's favorite ice cream flavor is strawberry\", \"my dog's best friend is a manatee\"]\n",
            "<OOV> has the number 1 in the word index.\n",
            "\n",
            "Test Data Sequences :  [[5, 1, 1, 6, 3, 4, 16, 7, 1], [5, 1, 1, 1, 7, 1, 1]]\n",
            "\n",
            "Padded Test Sequences : \n",
            "[[ 0  5  1  1  6  3  4 16  7  1]\n",
            " [ 0  0  0  5  1  1  1  7  1  1]]\n"
          ]
        }
      ]
    },
    {
      "cell_type": "code",
      "source": [],
      "metadata": {
        "id": "l9pwTe_dlT7D"
      },
      "execution_count": null,
      "outputs": []
    }
  ]
}