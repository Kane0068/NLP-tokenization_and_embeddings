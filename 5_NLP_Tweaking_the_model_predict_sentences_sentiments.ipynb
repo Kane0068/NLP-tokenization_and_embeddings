{
  "nbformat": 4,
  "nbformat_minor": 0,
  "metadata": {
    "colab": {
      "provenance": [],
      "authorship_tag": "ABX9TyNy8xSvYLOMxO0AMePEkr1q"
    },
    "kernelspec": {
      "name": "python3",
      "display_name": "Python 3"
    },
    "language_info": {
      "name": "python"
    },
    "accelerator": "GPU",
    "gpuClass": "standard"
  },
  "cells": [
    {
      "cell_type": "code",
      "execution_count": null,
      "metadata": {
        "cellView": "form",
        "id": "vE9AEMoAxJ0j"
      },
      "outputs": [],
      "source": [
        "#@title Licensed under the Apache License, Version 2.0 (the \"License\");\n",
        "# you may not use this file except in compliance with the License.\n",
        "# You may obtain a copy of the License at\n",
        "#\n",
        "# https://www.apache.org/licenses/LICENSE-2.0\n",
        "#\n",
        "# Unless required by applicable law or agreed to in writing, software\n",
        "# distributed under the License is distributed on an \"AS IS\" BASIS,\n",
        "# WITHOUT WARRANTIES OR CONDITIONS OF ANY KIND, either express or implied.\n",
        "# See the License for the specific language governing permissions and\n",
        "# limitations under the License."
      ]
    },
    {
      "cell_type": "markdown",
      "source": [
        "#TWEAKİNG THE MODEL\n",
        "  * MODELE İNCE AYAR YAPARAK SONUÇLARA ETKİSİNİ İNCELEYECEZ"
      ],
      "metadata": {
        "id": "EhJHMLo4xh1F"
      }
    },
    {
      "cell_type": "markdown",
      "source": [
        "##1-iMPORTİNG LİBRARİES"
      ],
      "metadata": {
        "id": "Xh09UIrDxh3d"
      }
    },
    {
      "cell_type": "code",
      "source": [
        "#numpy and pandas\n",
        "import pandas as pd\n",
        "import numpy as np\n",
        "\n",
        "#tensorflow- Tokenizer - pad_sequences\n",
        "import tensorflow as tf\n",
        "from tensorflow.keras.preprocessing.text import Tokenizer\n",
        "from tensorflow.keras.preprocessing.sequence import pad_sequences"
      ],
      "metadata": {
        "id": "tPvMuLOuxh6A"
      },
      "execution_count": 2,
      "outputs": []
    },
    {
      "cell_type": "markdown",
      "source": [
        "##2-GET THE DATASET"
      ],
      "metadata": {
        "id": "1xy_mn2Bxh8a"
      }
    },
    {
      "cell_type": "code",
      "source": [
        "!wget --no-check-certificate \\\n",
        "    https://drive.google.com/uc?id=13ySLC_ue6Umt9RJYSeM2t-V0kCv-4C-P \\\n",
        "    -O /tmp/sentiment.csv"
      ],
      "metadata": {
        "id": "qiQVD9Fexh-a"
      },
      "execution_count": null,
      "outputs": []
    },
    {
      "cell_type": "code",
      "source": [
        "dataset = pd.read_csv('/tmp/sentiment.csv')\n",
        "\n",
        "# cümleleri ve duygu belirten 0 ve 1 leri etiket olarak kayıt ediyoruz\n",
        "sentences = dataset['text'].tolist()\n",
        "labels = dataset['sentiment'].tolist()"
      ],
      "metadata": {
        "id": "aQTxTcE9xiAt"
      },
      "execution_count": 5,
      "outputs": []
    },
    {
      "cell_type": "markdown",
      "source": [
        "##3-Create The Training And Test Sets"
      ],
      "metadata": {
        "id": "RCAStwT2xiCx"
      }
    },
    {
      "cell_type": "code",
      "source": [
        "# Training set kısmına 0.8 , test setimiz 0.2 olsun\n",
        "training_size = int(len(sentences)*0.8)\n",
        "\n",
        "training_sentences = sentences[:training_size]\n",
        "testing_sentences = sentences[training_size:]\n",
        "training_labels = labels[:training_size]\n",
        "testing_labels = labels[training_size:]\n",
        "\n",
        "# Sonda kullanılmak üzere etiketleri numpy array olarak kayıt edelim\n",
        "training_labels_final = np.array(training_labels)\n",
        "testing_labels_final = np.array(testing_labels)"
      ],
      "metadata": {
        "id": "r04FzwBozKlQ"
      },
      "execution_count": 14,
      "outputs": []
    },
    {
      "cell_type": "markdown",
      "source": [
        "\n",
        "\n",
        "##4-Tokenize the Datasets"
      ],
      "metadata": {
        "id": "UnSzJBgQzKmE"
      }
    },
    {
      "cell_type": "markdown",
      "source": [
        "\n",
        "```\n",
        "# İLK PARAMETRELERİMİZ BUNLARDI\n",
        "vocab_size = 1000\n",
        "embedding_dim = 16\n",
        "max_length = 100\n",
        "trunc_type = 'post'\n",
        "padding_type = 'post'\n",
        "\n",
        "```\n",
        "\n"
      ],
      "metadata": {
        "id": "H_-19b_dzKnc"
      }
    },
    {
      "cell_type": "code",
      "source": [
        "# PARAMETRELERİ DEĞİŞTİRELİM(vocab_size ve max_length)\n",
        "vocab_size = 500\n",
        "embedding_dim = 16\n",
        "max_length = 50\n",
        "trunc_type = 'post'\n",
        "padding_type = 'post'\n",
        "oov_tok = \"<OOV>\"\n",
        "\n"
      ],
      "metadata": {
        "id": "3HRD3IKyzKp9"
      },
      "execution_count": 8,
      "outputs": []
    },
    {
      "cell_type": "code",
      "source": [
        "#Tokenize word and sentences\n",
        "#İlk olarak instance oluşturup,parametreleri girerek dönüşümü sırayla yapalım\n",
        "\n",
        "tokenizer = Tokenizer(num_words=vocab_size,oov_token = oov_tok)\n",
        "tokenizer.fit_on_texts(training_sentences)\n",
        "word_index = tokenizer.word_index\n",
        "training_sequences = tokenizer.texts_to_sequences(training_sentences)\n",
        "\n",
        "# padding,truncate ... işlemlerini yapalım\n",
        "training_padded = pad_sequences(training_sequences,maxlen = max_length,padding=padding_type,truncating=trunc_type)\n",
        "\n",
        "# test setlerimizin token ve padding işlemlerini yapalım\n",
        "testing_sequences = tokenizer.texts_to_sequences(testing_sentences)\n",
        "testing_padded = pad_sequences(testing_sequences,maxlen=max_length,padding=padding_type,truncating = trunc_type)"
      ],
      "metadata": {
        "id": "T8osmVWWzKqt"
      },
      "execution_count": 15,
      "outputs": []
    },
    {
      "cell_type": "markdown",
      "source": [
        "##5-Train a Sentiment Model(With Tweaks)\n",
        "  * Şimdi modelimizin diğer ince ayarını yapaarak model oluşturalım\n",
        "  * Daha Önce Düzleştirme için Flatten() kullanıyorduk onun yerine GlobalAveragePooling1D kullanacaz"
      ],
      "metadata": {
        "id": "WpNcPdw7zKrj"
      }
    },
    {
      "cell_type": "code",
      "source": [
        "model = tf.keras.models.Sequential([\n",
        "    tf.keras.layers.Embedding(vocab_size,embedding_dim,input_length= max_length),\n",
        "    tf.keras.layers.GlobalAveragePooling1D(),\n",
        "    tf.keras.layers.Dense(6,activation = 'relu'),\n",
        "    tf.keras.layers.Dense(1,activation='sigmoid')\n",
        "])\n",
        "\n",
        "model.compile(\n",
        "    loss = 'binary_crossentropy',\n",
        "    optimizer = 'adam',\n",
        "    metrics = ['accuracy']\n",
        ")\n",
        "\n",
        "model.summary()"
      ],
      "metadata": {
        "colab": {
          "base_uri": "https://localhost:8080/"
        },
        "id": "YjiwP4uMzKvL",
        "outputId": "c95ebf24-d748-43b8-f96d-1ab87398fa13"
      },
      "execution_count": 16,
      "outputs": [
        {
          "output_type": "stream",
          "name": "stdout",
          "text": [
            "Model: \"sequential_1\"\n",
            "_________________________________________________________________\n",
            " Layer (type)                Output Shape              Param #   \n",
            "=================================================================\n",
            " embedding_1 (Embedding)     (None, 50, 16)            8000      \n",
            "                                                                 \n",
            " global_average_pooling1d_1   (None, 16)               0         \n",
            " (GlobalAveragePooling1D)                                        \n",
            "                                                                 \n",
            " dense_2 (Dense)             (None, 6)                 102       \n",
            "                                                                 \n",
            " dense_3 (Dense)             (None, 1)                 7         \n",
            "                                                                 \n",
            "=================================================================\n",
            "Total params: 8,109\n",
            "Trainable params: 8,109\n",
            "Non-trainable params: 0\n",
            "_________________________________________________________________\n"
          ]
        }
      ]
    },
    {
      "cell_type": "code",
      "source": [
        "# Run the model fit\n",
        "num_epochs = 30\n",
        "history = model.fit(training_padded, training_labels_final, epochs=num_epochs, validation_data=(testing_padded, testing_labels_final))"
      ],
      "metadata": {
        "colab": {
          "base_uri": "https://localhost:8080/"
        },
        "id": "bZJHpcQ7zKv6",
        "outputId": "f0240a3e-aabd-4af0-d350-b54f90ab7f7b"
      },
      "execution_count": 18,
      "outputs": [
        {
          "output_type": "stream",
          "name": "stdout",
          "text": [
            "Epoch 1/30\n",
            "50/50 [==============================] - 2s 10ms/step - loss: 0.6921 - accuracy: 0.5330 - val_loss: 0.6961 - val_accuracy: 0.4110\n",
            "Epoch 2/30\n",
            "50/50 [==============================] - 0s 7ms/step - loss: 0.6893 - accuracy: 0.5229 - val_loss: 0.6990 - val_accuracy: 0.4135\n",
            "Epoch 3/30\n",
            "50/50 [==============================] - 0s 7ms/step - loss: 0.6869 - accuracy: 0.5267 - val_loss: 0.6952 - val_accuracy: 0.4411\n",
            "Epoch 4/30\n",
            "50/50 [==============================] - 0s 7ms/step - loss: 0.6829 - accuracy: 0.5549 - val_loss: 0.6892 - val_accuracy: 0.4862\n",
            "Epoch 5/30\n",
            "50/50 [==============================] - 0s 7ms/step - loss: 0.6765 - accuracy: 0.5819 - val_loss: 0.6841 - val_accuracy: 0.5338\n",
            "Epoch 6/30\n",
            "50/50 [==============================] - 0s 7ms/step - loss: 0.6668 - accuracy: 0.6202 - val_loss: 0.6748 - val_accuracy: 0.5815\n",
            "Epoch 7/30\n",
            "50/50 [==============================] - 0s 7ms/step - loss: 0.6526 - accuracy: 0.6560 - val_loss: 0.6585 - val_accuracy: 0.6692\n",
            "Epoch 8/30\n",
            "50/50 [==============================] - 0s 7ms/step - loss: 0.6340 - accuracy: 0.7527 - val_loss: 0.6522 - val_accuracy: 0.6040\n",
            "Epoch 9/30\n",
            "50/50 [==============================] - 0s 4ms/step - loss: 0.6118 - accuracy: 0.7495 - val_loss: 0.6322 - val_accuracy: 0.6642\n",
            "Epoch 10/30\n",
            "50/50 [==============================] - 0s 4ms/step - loss: 0.5839 - accuracy: 0.7985 - val_loss: 0.6153 - val_accuracy: 0.6692\n",
            "Epoch 11/30\n",
            "50/50 [==============================] - 0s 4ms/step - loss: 0.5558 - accuracy: 0.7972 - val_loss: 0.5860 - val_accuracy: 0.7644\n",
            "Epoch 12/30\n",
            "50/50 [==============================] - 0s 5ms/step - loss: 0.5276 - accuracy: 0.8230 - val_loss: 0.5730 - val_accuracy: 0.7419\n",
            "Epoch 13/30\n",
            "50/50 [==============================] - 0s 4ms/step - loss: 0.4982 - accuracy: 0.8274 - val_loss: 0.5711 - val_accuracy: 0.7068\n",
            "Epoch 14/30\n",
            "50/50 [==============================] - 0s 4ms/step - loss: 0.4712 - accuracy: 0.8399 - val_loss: 0.5449 - val_accuracy: 0.7368\n",
            "Epoch 15/30\n",
            "50/50 [==============================] - 0s 5ms/step - loss: 0.4466 - accuracy: 0.8456 - val_loss: 0.5253 - val_accuracy: 0.7669\n",
            "Epoch 16/30\n",
            "50/50 [==============================] - 0s 5ms/step - loss: 0.4238 - accuracy: 0.8537 - val_loss: 0.5258 - val_accuracy: 0.7419\n",
            "Epoch 17/30\n",
            "50/50 [==============================] - 1s 11ms/step - loss: 0.4038 - accuracy: 0.8562 - val_loss: 0.5046 - val_accuracy: 0.7769\n",
            "Epoch 18/30\n",
            "50/50 [==============================] - 0s 10ms/step - loss: 0.3851 - accuracy: 0.8644 - val_loss: 0.5014 - val_accuracy: 0.7669\n",
            "Epoch 19/30\n",
            "50/50 [==============================] - 1s 11ms/step - loss: 0.3693 - accuracy: 0.8606 - val_loss: 0.5018 - val_accuracy: 0.7594\n",
            "Epoch 20/30\n",
            "50/50 [==============================] - 0s 8ms/step - loss: 0.3544 - accuracy: 0.8675 - val_loss: 0.5031 - val_accuracy: 0.7419\n",
            "Epoch 21/30\n",
            "50/50 [==============================] - 0s 5ms/step - loss: 0.3401 - accuracy: 0.8738 - val_loss: 0.5128 - val_accuracy: 0.7268\n",
            "Epoch 22/30\n",
            "50/50 [==============================] - 0s 4ms/step - loss: 0.3300 - accuracy: 0.8770 - val_loss: 0.4832 - val_accuracy: 0.7769\n",
            "Epoch 23/30\n",
            "50/50 [==============================] - 0s 3ms/step - loss: 0.3175 - accuracy: 0.8763 - val_loss: 0.4859 - val_accuracy: 0.7694\n",
            "Epoch 24/30\n",
            "50/50 [==============================] - 0s 3ms/step - loss: 0.3070 - accuracy: 0.8820 - val_loss: 0.4764 - val_accuracy: 0.7845\n",
            "Epoch 25/30\n",
            "50/50 [==============================] - 0s 3ms/step - loss: 0.2965 - accuracy: 0.8876 - val_loss: 0.4739 - val_accuracy: 0.7920\n",
            "Epoch 26/30\n",
            "50/50 [==============================] - 0s 4ms/step - loss: 0.2901 - accuracy: 0.8933 - val_loss: 0.4907 - val_accuracy: 0.7569\n",
            "Epoch 27/30\n",
            "50/50 [==============================] - 0s 3ms/step - loss: 0.2820 - accuracy: 0.8952 - val_loss: 0.4904 - val_accuracy: 0.7544\n",
            "Epoch 28/30\n",
            "50/50 [==============================] - 0s 3ms/step - loss: 0.2739 - accuracy: 0.8977 - val_loss: 0.5144 - val_accuracy: 0.7343\n",
            "Epoch 29/30\n",
            "50/50 [==============================] - 0s 3ms/step - loss: 0.2659 - accuracy: 0.9046 - val_loss: 0.5199 - val_accuracy: 0.7293\n",
            "Epoch 30/30\n",
            "50/50 [==============================] - 0s 3ms/step - loss: 0.2606 - accuracy: 0.9014 - val_loss: 0.4951 - val_accuracy: 0.7494\n"
          ]
        }
      ]
    },
    {
      "cell_type": "markdown",
      "source": [
        "##6-Visualize the training graph"
      ],
      "metadata": {
        "id": "_nNqxACBzKwv"
      }
    },
    {
      "cell_type": "code",
      "source": [
        "import matplotlib.pyplot as plt\n",
        "\n",
        "\n",
        "def plot_graphs(history, string):\n",
        "  plt.plot(history.history[string])\n",
        "  plt.plot(history.history['val_'+string])\n",
        "  plt.xlabel(\"Epochs\")\n",
        "  plt.ylabel(string)\n",
        "  plt.legend([string, 'val_'+string])\n",
        "  plt.show()\n",
        "  \n",
        "plot_graphs(history, \"accuracy\")\n",
        "plot_graphs(history, \"loss\")"
      ],
      "metadata": {
        "colab": {
          "base_uri": "https://localhost:8080/",
          "height": 541
        },
        "id": "kI0EBrdq5Eo0",
        "outputId": "a28bc63f-4f74-4fcd-9284-cf3e2f329e35"
      },
      "execution_count": 19,
      "outputs": [
        {
          "output_type": "display_data",
          "data": {
            "text/plain": [
              "<Figure size 432x288 with 1 Axes>"
            ],
            "image/png": "[encoded data removed]"
          },
          "metadata": {
            "needs_background": "light"
          }
        },
        {
          "output_type": "display_data",
          "data": {
            "text/plain": [
              "<Figure size 432x288 with 1 Axes>"
            ],
            "image/png": "[encoded data removed]"
          },
          "metadata": {
            "needs_background": "light"
          }
        }
      ]
    },
    {
      "cell_type": "markdown",
      "source": [
        "##7-Görselleştirmek için dosyaları indirme işlemi \n",
        "*   http://projector.tensorflow.org/"
      ],
      "metadata": {
        "id": "8MoaTXDV5ErN"
      }
    },
    {
      "cell_type": "code",
      "source": [
        "# First get the weights of the embedding layer\n",
        "e = model.layers[0]\n",
        "weights = e.get_weights()[0]\n",
        "print(weights.shape) # shape: (vocab_size, embedding_dim)"
      ],
      "metadata": {
        "colab": {
          "base_uri": "https://localhost:8080/"
        },
        "id": "rIIVXy9r6edU",
        "outputId": "253b5024-8e63-4b61-d61a-de807f039551"
      },
      "execution_count": 21,
      "outputs": [
        {
          "output_type": "stream",
          "name": "stdout",
          "text": [
            "(500, 16)\n"
          ]
        }
      ]
    },
    {
      "cell_type": "code",
      "source": [
        "import io\n",
        "\n",
        "# Create the reverse word index\n",
        "reverse_word_index = dict([(value, key) for (key, value) in word_index.items()])\n",
        "\n",
        "# Write out the embedding vectors and metadata\n",
        "out_v = io.open('vecs.tsv', 'w', encoding='utf-8')\n",
        "out_m = io.open('meta.tsv', 'w', encoding='utf-8')\n",
        "for word_num in range(1, vocab_size):\n",
        "  word = reverse_word_index[word_num]\n",
        "  embeddings = weights[word_num]\n",
        "  out_m.write(word + \"\\n\")\n",
        "  out_v.write('\\t'.join([str(x) for x in embeddings]) + \"\\n\")\n",
        "out_v.close()\n",
        "out_m.close()"
      ],
      "metadata": {
        "id": "x00uOO_R5EtZ"
      },
      "execution_count": 22,
      "outputs": []
    },
    {
      "cell_type": "code",
      "source": [
        "# Download the files\n",
        "try:\n",
        "  from google.colab import files\n",
        "except ImportError:\n",
        "  pass\n",
        "else:\n",
        "  files.download('vecs.tsv')\n",
        "  files.download('meta.tsv')"
      ],
      "metadata": {
        "id": "D9TpkXpY5Evn"
      },
      "execution_count": null,
      "outputs": []
    },
    {
      "cell_type": "markdown",
      "source": [
        "##8-Predicting Sentiment in New Reviews"
      ],
      "metadata": {
        "id": "YEJzNyTs5Ex2"
      }
    },
    {
      "cell_type": "code",
      "source": [
        "example_reviews = ['I love this phone', 'I hate spaghetti', \n",
        "                'Everything was cold',\n",
        "                'Everything was hot exactly as I wanted', \n",
        "                'Everything was green', \n",
        "                'the host seated us immediately',\n",
        "                'they gave us free chocolate cake', \n",
        "                'not sure about the wilted flowers on the table',\n",
        "                'only works when I stand on tippy toes', \n",
        "                'does not work when I stand on my head']\n",
        "\n",
        "print(example_reviews) \n",
        "\n",
        "#Diziyi ayarlayalım(cümle için)\n",
        "padding_type = 'post'\n",
        "sample_sequences = tokenizer.texts_to_sequences(example_reviews)\n",
        "sample_padded = pad_sequences(sample_sequences,maxlen = max_length,padding = padding_type)\n",
        "\n",
        "\n",
        "classes = model.predict(sample_padded)\n",
        "\n",
        "# Tahminleri görelim\n",
        "for x in range(len(example_reviews)):\n",
        "  print(example_reviews[x])\n",
        "  print(classes[x])\n",
        "  print(\"\\n\")\n"
      ],
      "metadata": {
        "colab": {
          "base_uri": "https://localhost:8080/"
        },
        "id": "BG3ij8YM6203",
        "outputId": "d48e6c3a-6cef-4ec9-c115-8aa058f0f9f0"
      },
      "execution_count": 23,
      "outputs": [
        {
          "output_type": "stream",
          "name": "stdout",
          "text": [
            "['I love this phone', 'I hate spaghetti', 'Everything was cold', 'Everything was hot exactly as I wanted', 'Everything was green', 'the host seated us immediately', 'they gave us free chocolate cake', 'not sure about the wilted flowers on the table', 'only works when I stand on tippy toes', 'does not work when I stand on my head']\n",
            "1/1 [==============================] - 0s 149ms/step\n",
            "I love this phone\n",
            "[0.90428483]\n",
            "\n",
            "\n",
            "I hate spaghetti\n",
            "[0.15322535]\n",
            "\n",
            "\n",
            "Everything was cold\n",
            "[0.58034414]\n",
            "\n",
            "\n",
            "Everything was hot exactly as I wanted\n",
            "[0.41137025]\n",
            "\n",
            "\n",
            "Everything was green\n",
            "[0.58034414]\n",
            "\n",
            "\n",
            "the host seated us immediately\n",
            "[0.5718277]\n",
            "\n",
            "\n",
            "they gave us free chocolate cake\n",
            "[0.84455264]\n",
            "\n",
            "\n",
            "not sure about the wilted flowers on the table\n",
            "[0.10554136]\n",
            "\n",
            "\n",
            "only works when I stand on tippy toes\n",
            "[0.8419316]\n",
            "\n",
            "\n",
            "does not work when I stand on my head\n",
            "[0.022245]\n",
            "\n",
            "\n"
          ]
        }
      ]
    }
  ]
}